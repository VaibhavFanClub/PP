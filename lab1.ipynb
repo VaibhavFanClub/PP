{
 "cells": [
  {
   "cell_type": "code",
   "execution_count": 7,
   "id": "410fcc90-1dbd-4bf0-904e-4da2c21969ec",
   "metadata": {},
   "outputs": [
    {
     "name": "stdout",
     "output_type": "stream",
     "text": [
      "150\n"
     ]
    }
   ],
   "source": [
    "result =10+20 + \\\n",
    "        30+40 + \\\n",
    "        50\n",
    "print(result)"
   ]
  },
  {
   "cell_type": "code",
   "execution_count": 4,
   "id": "90246cfc-b496-480b-9d9d-311fe1310c0f",
   "metadata": {},
   "outputs": [
    {
     "name": "stdout",
     "output_type": "stream",
     "text": [
      "150\n"
     ]
    }
   ],
   "source": [
    "result =(10+20+\n",
    "        30+40+\n",
    "        50)\n",
    "print(result)"
   ]
  },
  {
   "cell_type": "code",
   "execution_count": 5,
   "id": "5295b339-9a72-4875-86cc-f26692b4e95f",
   "metadata": {},
   "outputs": [
    {
     "name": "stdout",
     "output_type": "stream",
     "text": [
      "[150]\n"
     ]
    }
   ],
   "source": [
    "result =[10+20+\n",
    "        30+40+\n",
    "        50]\n",
    "print(result)"
   ]
  },
  {
   "cell_type": "code",
   "execution_count": 6,
   "id": "d370b6ad-d9ea-44ea-9c0c-fb7bac6845aa",
   "metadata": {},
   "outputs": [
    {
     "name": "stdout",
     "output_type": "stream",
     "text": [
      "{150}\n"
     ]
    }
   ],
   "source": [
    "result ={10+20+\n",
    "        30+40+\n",
    "        50}\n",
    "print(result)"
   ]
  },
  {
   "cell_type": "code",
   "execution_count": 13,
   "id": "b05c5e49-d3f8-438b-aba5-ae1d1a6020f4",
   "metadata": {},
   "outputs": [
    {
     "name": "stdin",
     "output_type": "stream",
     "text": [
      "Enter your name:  Raj\n"
     ]
    },
    {
     "name": "stdout",
     "output_type": "stream",
     "text": [
      "Raj\n"
     ]
    }
   ],
   "source": [
    "name = input(\"Enter your name: \")\n",
    "print(name)"
   ]
  },
  {
   "cell_type": "code",
   "execution_count": 12,
   "id": "da61599d-0ba3-438c-9322-c06f93e77532",
   "metadata": {},
   "outputs": [
    {
     "name": "stdin",
     "output_type": "stream",
     "text": [
      "Enter the number:  -7\n"
     ]
    },
    {
     "name": "stdout",
     "output_type": "stream",
     "text": [
      "-7 is negative\n"
     ]
    }
   ],
   "source": [
    "number = int(input(\"Enter the number: \"))\n",
    "if number > 0:\n",
    "    print(f'{number} is positive')\n",
    "else:\n",
    "    print(f'{number} is negative')"
   ]
  },
  {
   "cell_type": "code",
   "execution_count": 15,
   "id": "8f64e943-9870-4511-aa4d-e9d2ae69569d",
   "metadata": {},
   "outputs": [
    {
     "name": "stdin",
     "output_type": "stream",
     "text": [
      "Enter the number:  5\n"
     ]
    },
    {
     "name": "stdout",
     "output_type": "stream",
     "text": [
      "5 is odd\n"
     ]
    }
   ],
   "source": [
    "number = int(input(\"Enter the number: \"))\n",
    "if number % 2 == 0:\n",
    "    print(f'{number} is even')\n",
    "else:\n",
    "    print(f'{number} is odd')"
   ]
  },
  {
   "cell_type": "code",
   "execution_count": 20,
   "id": "eb8981f4-0272-4f52-a326-ebbad824051f",
   "metadata": {},
   "outputs": [
    {
     "name": "stdin",
     "output_type": "stream",
     "text": [
      "Enter number1:  5\n",
      "Enter number2:  4\n"
     ]
    },
    {
     "name": "stdout",
     "output_type": "stream",
     "text": [
      "Addition = 9\n"
     ]
    }
   ],
   "source": [
    "n1 = int(input(\"Enter number1: \"))\n",
    "n2 = int(input(\"Enter number2: \"))\n",
    "print(f'Addition = {n1 + n2}')"
   ]
  },
  {
   "cell_type": "code",
   "execution_count": 21,
   "id": "7859af8a-8143-4365-84b2-b0bd1c858cd2",
   "metadata": {},
   "outputs": [
    {
     "name": "stdin",
     "output_type": "stream",
     "text": [
      "Enter the number:  5\n"
     ]
    },
    {
     "name": "stdout",
     "output_type": "stream",
     "text": [
      "1\n",
      "2\n",
      "3\n",
      "4\n",
      "5\n"
     ]
    }
   ],
   "source": [
    "n = int(input(\"Enter the number: \"))\n",
    "i = 1\n",
    "while i <= n:\n",
    "    print(i)\n",
    "    i += 1"
   ]
  },
  {
   "cell_type": "code",
   "execution_count": 22,
   "id": "341ae268-659b-4965-b1f5-02378e873602",
   "metadata": {},
   "outputs": [
    {
     "name": "stdout",
     "output_type": "stream",
     "text": [
      "hello\n"
     ]
    }
   ],
   "source": [
    "print('hello')"
   ]
  },
  {
   "cell_type": "code",
   "execution_count": 4,
   "id": "567c95e9-2390-423e-bdc4-cb6304291002",
   "metadata": {},
   "outputs": [
    {
     "name": "stdin",
     "output_type": "stream",
     "text": [
      "Enter number:  5\n",
      "Enter number:  4\n",
      "Enter number:  5\n",
      "Enter number:  1\n",
      "Enter number:  0\n"
     ]
    },
    {
     "name": "stdout",
     "output_type": "stream",
     "text": [
      "Total = 15\n"
     ]
    }
   ],
   "source": [
    "total = 0\n",
    "while True:\n",
    "    num = int(input(\"Enter number: \"))\n",
    "    if num == 0:\n",
    "        break\n",
    "    total += num\n",
    "print(f'Total = {total}')"
   ]
  },
  {
   "cell_type": "code",
   "execution_count": 8,
   "id": "7d285970-b339-4377-a820-ce864a591402",
   "metadata": {},
   "outputs": [
    {
     "name": "stdin",
     "output_type": "stream",
     "text": [
      "Enter number:  -5\n"
     ]
    },
    {
     "name": "stdout",
     "output_type": "stream",
     "text": [
      "Number is negative. Try again!\n"
     ]
    },
    {
     "name": "stdin",
     "output_type": "stream",
     "text": [
      "Enter number:  -3\n"
     ]
    },
    {
     "name": "stdout",
     "output_type": "stream",
     "text": [
      "Number is negative. Try again!\n"
     ]
    },
    {
     "name": "stdin",
     "output_type": "stream",
     "text": [
      "Enter number:  5\n"
     ]
    },
    {
     "name": "stdout",
     "output_type": "stream",
     "text": [
      "5 is positive\n"
     ]
    }
   ],
   "source": [
    "while True:\n",
    "    num = int(input(\"Enter number: \"))\n",
    "    if num < 0:\n",
    "        print(\"Number is negative. Try again!\")\n",
    "    else:\n",
    "        print(f\"{num} is positive\")\n",
    "        break"
   ]
  },
  {
   "cell_type": "code",
   "execution_count": 19,
   "id": "1f6fdfad-5aca-4d7c-93ca-f3c2346a459b",
   "metadata": {},
   "outputs": [
    {
     "name": "stdin",
     "output_type": "stream",
     "text": [
      "Enter number:  5\n",
      "Enter number:  4\n",
      "Enter number:  0\n"
     ]
    },
    {
     "name": "stdout",
     "output_type": "stream",
     "text": [
      "5\n",
      "4\n"
     ]
    }
   ],
   "source": [
    "# not in assignment\n",
    "val = []\n",
    "while True:\n",
    "    num = int(input(\"Enter number: \"))\n",
    "    if num == 0:\n",
    "        break\n",
    "    val.append(num)\n",
    "for i in val:\n",
    "    print(i)"
   ]
  },
  {
   "cell_type": "code",
   "execution_count": 20,
   "id": "c424f1a3-fc8a-49c1-b142-b1ddc5e300d2",
   "metadata": {},
   "outputs": [
    {
     "name": "stdout",
     "output_type": "stream",
     "text": [
      "Value1\n"
     ]
    }
   ],
   "source": [
    "# not in assignment\n",
    "dist = {\n",
    "    \"key1\": \"Value1\",\n",
    "    \"key2\": \"Value2\"\n",
    "}\n",
    "print(dist[\"key1\"])"
   ]
  },
  {
   "cell_type": "code",
   "execution_count": 21,
   "id": "499e7ad2-7950-4f82-9d13-713a0e8208b5",
   "metadata": {},
   "outputs": [
    {
     "name": "stdout",
     "output_type": "stream",
     "text": [
      "1\n",
      "2\n",
      "3\n",
      "4\n",
      "5\n"
     ]
    }
   ],
   "source": [
    "for i in range(1, 6):\n",
    "    print(i)"
   ]
  },
  {
   "cell_type": "code",
   "execution_count": 23,
   "id": "8254623f-db5d-49d0-a597-baf8fd07c0c8",
   "metadata": {},
   "outputs": [
    {
     "name": "stdout",
     "output_type": "stream",
     "text": [
      "h\n",
      "e\n",
      "l\n",
      "l\n",
      "o\n"
     ]
    }
   ],
   "source": [
    "for c in \"hello\":\n",
    "    print(c)"
   ]
  },
  {
   "cell_type": "code",
   "execution_count": 24,
   "id": "597749da-4d1c-4914-8c12-bf30768fa85b",
   "metadata": {},
   "outputs": [
    {
     "name": "stdout",
     "output_type": "stream",
     "text": [
      "s\n",
      "y\n",
      "b\n",
      "c\n",
      "a\n"
     ]
    }
   ],
   "source": [
    "name = \"sybca\"\n",
    "for c in name:\n",
    "    print(c)"
   ]
  },
  {
   "cell_type": "code",
   "execution_count": 26,
   "id": "809fdfc1-3db9-4a80-b652-5e4a91de456c",
   "metadata": {},
   "outputs": [
    {
     "name": "stdout",
     "output_type": "stream",
     "text": [
      "Hello\n",
      "Hello\n",
      "Hello\n",
      "Hello\n",
      "Hello\n"
     ]
    }
   ],
   "source": [
    "for _ in range(5): # _ is used as placeholder in loop\n",
    "    print(\"Hello\")"
   ]
  },
  {
   "cell_type": "code",
   "execution_count": 30,
   "id": "3e034e14-1fb1-478f-a20c-108a1be622b1",
   "metadata": {},
   "outputs": [
    {
     "name": "stdout",
     "output_type": "stream",
     "text": [
      "The square of 1 is 1\n",
      "The square of 2 is 4\n",
      "The square of 3 is 9\n",
      "The square of 4 is 16\n",
      "The square of 5 is 25\n"
     ]
    }
   ],
   "source": [
    "for i in range(1, 6):\n",
    "    # print(f'The square of {i} is {i*i}')\n",
    "    print(f'The square of {i} is {i**2}') # i**2 interprets to i^2"
   ]
  },
  {
   "cell_type": "code",
   "execution_count": 32,
   "id": "9644704f-d76b-46e5-8ef8-173f99d63afb",
   "metadata": {},
   "outputs": [
    {
     "name": "stdin",
     "output_type": "stream",
     "text": [
      "Enter a number:  5\n"
     ]
    },
    {
     "name": "stdout",
     "output_type": "stream",
     "text": [
      "The sum of the nubmers from 1 to 5 is 15\n"
     ]
    }
   ],
   "source": [
    "n = int(input(\"Enter a number: \"))\n",
    "total = 0\n",
    "for i in range(1, n+1):\n",
    "    total += i\n",
    "print(f'The sum of the nubmers from 1 to {n} is {total}')"
   ]
  },
  {
   "cell_type": "code",
   "execution_count": 33,
   "id": "178a3668-2188-4f4c-952c-0687596ccc06",
   "metadata": {},
   "outputs": [
    {
     "name": "stdin",
     "output_type": "stream",
     "text": [
      "Enter a number:  5\n"
     ]
    },
    {
     "name": "stdout",
     "output_type": "stream",
     "text": [
      "The sum of the nubmers from 1 to 5 is 15\n",
      "The average of 5 numbers is 3.0\n"
     ]
    }
   ],
   "source": [
    "n = int(input(\"Enter a number: \"))\n",
    "total = 0\n",
    "for i in range(1, n+1):\n",
    "    total += i\n",
    "avg = total / n\n",
    "print(f'The sum of the nubmers from 1 to {n} is {total}')\n",
    "print(f'The average of {n} numbers is {avg}')"
   ]
  },
  {
   "cell_type": "code",
   "execution_count": 36,
   "id": "d993750f-1fe2-4c90-a227-167675b3aa01",
   "metadata": {},
   "outputs": [
    {
     "name": "stdin",
     "output_type": "stream",
     "text": [
      "Enter a number:  5\n"
     ]
    },
    {
     "name": "stdout",
     "output_type": "stream",
     "text": [
      "factorial of 5 is 120\n"
     ]
    }
   ],
   "source": [
    "fact = 1\n",
    "num = int(input(\"Enter a number: \"))\n",
    "for i in range(2, num + 1):\n",
    "    fact *= i\n",
    "print(f\"factorial of {num} is {fact}\")"
   ]
  },
  {
   "cell_type": "code",
   "execution_count": 38,
   "id": "0fee1469-ae4b-4603-9cf7-9c2b99845f23",
   "metadata": {},
   "outputs": [
    {
     "name": "stdin",
     "output_type": "stream",
     "text": [
      "Enter a number:  10\n"
     ]
    },
    {
     "name": "stdout",
     "output_type": "stream",
     "text": [
      "Fibonacci series of 10 is: \n",
      "0\n",
      "1\n",
      "1\n",
      "2\n",
      "3\n",
      "5\n",
      "8\n",
      "13\n",
      "21\n",
      "34\n"
     ]
    }
   ],
   "source": [
    "n1 = 0\n",
    "n2 = 1\n",
    "n3 = 0\n",
    "n = 3\n",
    "num = int(input(\"Enter a number: \"))\n",
    "print(f\"Fibonacci series of {num} is: \\n{n1}\\n{n2}\")\n",
    "while n <= num:\n",
    "    n3 = n1 + n2\n",
    "    print(n3)\n",
    "    n1 = n2\n",
    "    n2 = n3\n",
    "    n += 1"
   ]
  },
  {
   "cell_type": "code",
   "execution_count": 41,
   "id": "3bf9f4fd-54e8-4678-9eec-b26d42dadecd",
   "metadata": {},
   "outputs": [
    {
     "name": "stdin",
     "output_type": "stream",
     "text": [
      "Enter a number:  4\n"
     ]
    },
    {
     "name": "stdout",
     "output_type": "stream",
     "text": [
      "4 is not prime\n"
     ]
    }
   ],
   "source": [
    "num = int(input(\"Enter a number: \"))\n",
    "flag = 1\n",
    "for i in range(2, num):\n",
    "    if num % i == 0:\n",
    "        flag = 0\n",
    "        break\n",
    "if flag:\n",
    "    print(f'{num} is prime')\n",
    "else:\n",
    "    print(f'{num} is not prime')"
   ]
  },
  {
   "cell_type": "code",
   "execution_count": null,
   "id": "8e243e63-12e8-4899-98aa-a9807b01f3f5",
   "metadata": {},
   "outputs": [],
   "source": []
  }
 ],
 "metadata": {
  "kernelspec": {
   "display_name": "Python 3 (ipykernel)",
   "language": "python",
   "name": "python3"
  },
  "language_info": {
   "codemirror_mode": {
    "name": "ipython",
    "version": 3
   },
   "file_extension": ".py",
   "mimetype": "text/x-python",
   "name": "python",
   "nbconvert_exporter": "python",
   "pygments_lexer": "ipython3",
   "version": "3.8.10"
  }
 },
 "nbformat": 4,
 "nbformat_minor": 5
}
